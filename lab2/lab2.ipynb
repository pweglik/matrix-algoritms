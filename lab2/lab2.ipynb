{
 "cells": [
  {
   "cell_type": "markdown",
   "metadata": {},
   "source": [
    "### Algorytmy Macierzowe lab 2"
   ]
  },
  {
   "cell_type": "markdown",
   "metadata": {},
   "source": [
    "#### Konfiguracja"
   ]
  },
  {
   "cell_type": "code",
   "execution_count": 1,
   "metadata": {},
   "outputs": [],
   "source": [
    "import numpy as np\n",
    "import scipy.linalg\n",
    "from math import log, ceil, pow\n",
    "from typing import Tuple, List"
   ]
  },
  {
   "cell_type": "markdown",
   "metadata": {},
   "source": [
    "#### Generowanie macierzy"
   ]
  },
  {
   "cell_type": "code",
   "execution_count": 2,
   "metadata": {},
   "outputs": [],
   "source": [
    "def generate_matrix(ncols: int, nrows: int):\n",
    "    return np.random.uniform(low=0.00000001, high=1.0, size=(nrows, ncols))"
   ]
  },
  {
   "cell_type": "markdown",
   "metadata": {},
   "source": [
    "#### Licznik operacji"
   ]
  },
  {
   "cell_type": "code",
   "execution_count": 3,
   "metadata": {},
   "outputs": [],
   "source": [
    "class Counter:\n",
    "    def __init__(self) -> None:\n",
    "        self.add_counter = 0\n",
    "        self.mul_counter = 0\n",
    "        self.div_counter = 0\n",
    "        self.sub_counter = 0\n",
    "        self.operation_counter = 0\n",
    "\n",
    "    def add(self, A: np.ndarray, B: np.ndarray) -> np.ndarray:\n",
    "        self.add_counter += A.size\n",
    "        self.operation_counter += A.size\n",
    "        return A + B\n",
    "\n",
    "    def mul(self, A: np.ndarray, B: np.ndarray) -> np.ndarray:\n",
    "        self.mul_counter += 1\n",
    "        self.operation_counter += int(\n",
    "            (A.shape[0]) ** 2.807\n",
    "        )  # we assume Strassen algorithm for multiplication\n",
    "        return A @ B\n",
    "\n",
    "    def inc_flops_mul(self, count: int):\n",
    "        self.operation_counter += count\n",
    "\n",
    "    def print_counters(self) -> None:\n",
    "        print(f\"Number of add operations: {self.add_counter}\")\n",
    "        print(f\"Number of sub operations: {self.sub_counter}\")\n",
    "        print(f\"Number of div operations: {self.div_counter}\")\n",
    "        print(f\"Number of mul operations: {self.mul_counter}\")\n",
    "        print(f\"Number of unit operations: {self.operation_counter}\")"
   ]
  },
  {
   "cell_type": "markdown",
   "metadata": {},
   "source": [
    "#### Funckje pomocniczne"
   ]
  },
  {
   "cell_type": "code",
   "execution_count": 4,
   "metadata": {},
   "outputs": [],
   "source": [
    "def resize_matrix_to_2n(A: np.ndarray):\n",
    "    \"\"\"Change size of matrix to simplify processing\"\"\"\n",
    "    size_A = A.shape\n",
    "    new_height: int = 0\n",
    "    new_width: int = 0\n",
    "\n",
    "    new_height = find_next_power_of_2(size_A[0])\n",
    "\n",
    "    new_width = find_next_power_of_2(size_A[1])\n",
    "\n",
    "    new_A = np.pad(\n",
    "        A, [(0, new_height - size_A[0]), (0, new_width - size_A[1])], mode=\"constant\"\n",
    "    )\n",
    "\n",
    "    return new_A\n",
    "\n",
    "\n",
    "def split(array: np.ndarray, n: int) -> Tuple:\n",
    "    \"\"\"Split a matrix into sub-matrices\"\"\"\n",
    "    return (\n",
    "        array[:n, :n],\n",
    "        array[:n, n:],\n",
    "        array[n:, :n],\n",
    "        array[n:, n:],\n",
    "    )\n",
    "\n",
    "\n",
    "def find_next_power_of_2(number: int) -> int:\n",
    "    \"\"\"Finds closest number that is power of 2\"\"\"\n",
    "    return int(pow(2, ceil(log(number) / log(2))))"
   ]
  },
  {
   "cell_type": "markdown",
   "metadata": {},
   "source": [
    "#### Rekurencyjne odwracanie macierzy"
   ]
  },
  {
   "cell_type": "code",
   "execution_count": 5,
   "metadata": {},
   "outputs": [
    {
     "name": "stdout",
     "output_type": "stream",
     "text": [
      "[[-0.60797858 -0.01238372  3.08932341  0.22871446 -0.30930868]\n",
      " [-0.14310204  0.30810642 -3.42164045  1.64022738 -1.48480113]\n",
      " [-0.4886025   1.51283572 -0.94933302 -1.26057579  1.52047312]\n",
      " [ 0.05433031 -2.65821093 -0.25240897  2.44739417 -0.16823216]\n",
      " [ 1.65667653  0.44985495  1.779047   -2.02746293  0.71920385]]\n",
      "Number of add operations: 22\n",
      "Number of sub operations: 0\n",
      "Number of div operations: 0\n",
      "Number of mul operations: 40\n",
      "Number of unit operations: 192\n",
      "\n",
      "[[-0.60797858 -0.01238372  3.08932341  0.22871446 -0.30930868]\n",
      " [-0.14310204  0.30810642 -3.42164045  1.64022738 -1.48480113]\n",
      " [-0.4886025   1.51283572 -0.94933302 -1.26057579  1.52047312]\n",
      " [ 0.05433031 -2.65821093 -0.25240897  2.44739417 -0.16823216]\n",
      " [ 1.65667653  0.44985495  1.779047   -2.02746293  0.71920385]]\n"
     ]
    }
   ],
   "source": [
    "A = generate_matrix(5, 5)\n",
    "\n",
    "\n",
    "def recursive_matrix_inverse(A: np.ndarray, counter: Counter) -> np.ndarray:\n",
    "    add = counter.add\n",
    "\n",
    "    mul = counter.mul\n",
    "    if A.size > 1:\n",
    "        split_at = A.shape[0] // 2\n",
    "        A11, A12, A21, A22 = split(A, split_at)\n",
    "\n",
    "        A11_inv = recursive_matrix_inverse(A11, counter)\n",
    "        S22 = add(A22, -mul(mul(A21, A11_inv), A12))\n",
    "        S22_inv = recursive_matrix_inverse(S22, counter)\n",
    "\n",
    "        B11 = mul(\n",
    "            A11_inv,\n",
    "            add(np.identity(A11.shape[0]), mul(mul(mul(A12, S22_inv), A21), A11_inv)),\n",
    "        )\n",
    "        B12 = -mul(mul(A11_inv, A12), S22_inv)\n",
    "        B21 = -mul(mul(S22_inv, A21), A11_inv)\n",
    "        B22 = S22_inv\n",
    "\n",
    "        return np.concatenate(\n",
    "            [np.concatenate([B11, B12], axis=1), np.concatenate([B21, B22], axis=1)],\n",
    "            axis=0,\n",
    "        )\n",
    "    else:\n",
    "        return np.full((1, 1), 1 / A[0][0])\n",
    "\n",
    "counter = Counter()\n",
    "print(recursive_matrix_inverse(A.copy(), counter))\n",
    "counter.print_counters()\n",
    "print()\n",
    "print(np.linalg.inv(A))"
   ]
  },
  {
   "cell_type": "markdown",
   "metadata": {},
   "source": [
    "#### Rekurencyjna LU faktoryzacja"
   ]
  },
  {
   "cell_type": "code",
   "execution_count": 6,
   "metadata": {},
   "outputs": [
    {
     "name": "stdout",
     "output_type": "stream",
     "text": [
      "Original matrix A:\n",
      "[[0.37454013 0.95071431 0.73199394 0.59865849 0.15601865]\n",
      " [0.15599453 0.05808362 0.86617615 0.60111502 0.70807258]\n",
      " [0.0205845  0.96990985 0.83244264 0.21233912 0.18182498]\n",
      " [0.18340452 0.30424225 0.52475644 0.43194502 0.29122915]\n",
      " [0.6118529  0.13949387 0.29214466 0.36636185 0.45606999]]\n",
      "\n",
      "L:\n",
      "[[  1.           0.           0.           0.           0.        ]\n",
      " [  0.41649617   1.           0.           0.           0.        ]\n",
      " [  0.05495941  -2.71588996   1.           0.           0.        ]\n",
      " [  0.48967922   0.47738928  -0.04387629   1.           0.        ]\n",
      " [  1.63361108   4.1836794   -1.40373424 -23.74302445   1.        ]]\n",
      "U:\n",
      "[[ 0.37454013  0.95071431  0.73199394  0.59865849  0.15601865]\n",
      " [ 0.         -0.33788525  0.56130347  0.35177605  0.64309141]\n",
      " [ 0.          0.          2.31665115  1.13482223  1.91981579]\n",
      " [ 0.          0.          0.          0.02065207 -0.0079405 ]\n",
      " [ 0.          0.          0.          0.          0.01708756]]\n",
      "\n",
      "L*U=\n",
      "[[0.37454013 0.95071431 0.73199394 0.59865849 0.15601865]\n",
      " [0.15599453 0.05808362 0.86617615 0.60111502 0.70807258]\n",
      " [0.0205845  0.96990985 0.83244264 0.21233912 0.18182498]\n",
      " [0.18340452 0.30424225 0.52475644 0.43194502 0.29122915]\n",
      " [0.6118529  0.13949387 0.29214466 0.36636185 0.45606999]]\n",
      "\n",
      "\n",
      "Number of add operations: 19\n",
      "Number of sub operations: 0\n",
      "Number of div operations: 0\n",
      "Number of mul operations: 40\n",
      "Number of unit operations: 164\n",
      "\n",
      "Scipy L*U=\n",
      "[[0.37454013 0.95071431 0.73199394 0.59865849 0.15601865]\n",
      " [0.15599453 0.05808362 0.86617615 0.60111502 0.70807258]\n",
      " [0.0205845  0.96990985 0.83244264 0.21233912 0.18182498]\n",
      " [0.18340452 0.30424225 0.52475644 0.43194502 0.29122915]\n",
      " [0.6118529  0.13949387 0.29214466 0.36636185 0.45606999]]\n"
     ]
    }
   ],
   "source": [
    "np.random.seed(42)\n",
    "A = generate_matrix(5, 5)\n",
    "\n",
    "\n",
    "def recursive_lu(A: np.ndarray, counter: Counter) -> Tuple[np.ndarray, np.ndarray]:\n",
    "    add = counter.add\n",
    "    mul = counter.mul\n",
    "    if A.size > 1:\n",
    "        split_at = A.shape[0] // 2\n",
    "        A11, A12, A21, A22 = split(A, split_at)\n",
    "\n",
    "        L11, U11 = recursive_lu(A11, counter)\n",
    "        U11_inv = recursive_matrix_inverse(U11, counter)\n",
    "\n",
    "        L21 = mul(A21, U11_inv)\n",
    "        L11_inv = recursive_matrix_inverse(L11, counter)\n",
    "\n",
    "        U12 = mul(L11_inv, A12)\n",
    "        L22 = add(A22, -mul(mul(mul(A21, U11_inv), L11_inv), A12))\n",
    "\n",
    "        Ls, Us = recursive_lu(L22, counter)\n",
    "        U22 = Us\n",
    "        L22 = Ls\n",
    "\n",
    "        return np.concatenate(\n",
    "            [\n",
    "                np.concatenate([L11, np.full((L21.shape[1], L21.shape[0]), 0)], axis=1),\n",
    "                np.concatenate([L21, L22], axis=1),\n",
    "            ],\n",
    "            axis=0,\n",
    "        ), np.concatenate(\n",
    "            [\n",
    "                np.concatenate([U11, U12], axis=1),\n",
    "                np.concatenate([np.full((U12.shape[1], U12.shape[0]), 0), U22], axis=1),\n",
    "            ],\n",
    "            axis=0,\n",
    "        )\n",
    "    else:\n",
    "        return np.full((1, 1), 1), np.full((1, 1), A[0, 0])\n",
    "\n",
    "\n",
    "counter = Counter()\n",
    "print(f\"Original matrix A:\\n{A}\\n\")\n",
    "L, U = recursive_lu(A, counter)\n",
    "print(f\"L:\\n{L}\\nU:\\n{U}\\n\\nL*U=\\n{L @ U}\\n\\n\")\n",
    "counter.print_counters()\n",
    "print()\n",
    "L, U = scipy.linalg.lu(A, permute_l=True)\n",
    "print(f\"Scipy L*U=\\n{L @ U}\")"
   ]
  },
  {
   "cell_type": "markdown",
   "metadata": {},
   "source": [
    "#### Rekurencyjny wyznacznik macierzy"
   ]
  },
  {
   "cell_type": "code",
   "execution_count": 7,
   "metadata": {},
   "outputs": [
    {
     "name": "stdout",
     "output_type": "stream",
     "text": [
      "-0.00010345989814894179\n",
      "Number of add operations: 19\n",
      "Number of sub operations: 0\n",
      "Number of div operations: 0\n",
      "Number of mul operations: 40\n",
      "Number of unit operations: 168\n",
      "\n",
      "-0.00010345989814894385\n"
     ]
    }
   ],
   "source": [
    "import functools\n",
    "np.random.seed(42)\n",
    "A = generate_matrix(5, 5)\n",
    "\n",
    "\n",
    "def recursive_determinant(A: np.ndarray, counter: Counter) -> float:\n",
    "    _, U = recursive_lu(A, counter)\n",
    "\n",
    "    U_diag = np.diagonal(U)\n",
    "\n",
    "    det = functools.reduce(lambda x, y: x * y, U_diag)\n",
    "    counter.inc_flops_mul(U_diag.size - 1) # wykonaliśmy N - 1 mnożeń floatów\n",
    "\n",
    "    return det\n",
    "\n",
    "counter = Counter()\n",
    "print(recursive_determinant(A, counter))\n",
    "counter.print_counters()\n",
    "print()\n",
    "print(np.linalg.det(A))"
   ]
  },
  {
   "cell_type": "code",
   "execution_count": 8,
   "metadata": {},
   "outputs": [
    {
     "name": "stdout",
     "output_type": "stream",
     "text": [
      "[2, 4, 8, 16, 32, 64, 128, 256, 512, 1024, 2048, 4096, 8192]\n"
     ]
    }
   ],
   "source": [
    "import matplotlib.pyplot as plt\n",
    "from time import time\n",
    "from matplotlib.ticker import FormatStrFormatter\n",
    "\n",
    "\n",
    "times: List[float] = []\n",
    "flops: List[int] = []\n",
    "\n",
    "power_basis = list(range(1, 14))\n",
    "powers = [2**k for k in power_basis]\n",
    "print(powers)"
   ]
  },
  {
   "cell_type": "markdown",
   "metadata": {},
   "source": [
    "#### Wykresy"
   ]
  },
  {
   "cell_type": "code",
   "execution_count": 9,
   "metadata": {},
   "outputs": [],
   "source": [
    "times_inverse: List[float] = []\n",
    "flops_inverse: List[int] = []\n",
    "\n",
    "for k in power_basis:\n",
    "    A = generate_matrix(2**k, 2**k)\n",
    "\n",
    "    counter = Counter()\n",
    "    start_time: float = time()\n",
    "\n",
    "    recursive_matrix_inverse(A, counter)\n",
    "\n",
    "    total_time: float = time() - start_time\n",
    "\n",
    "    times_inverse.append(total_time)\n",
    "    flops_inverse.append(counter.operation_counter)"
   ]
  },
  {
   "cell_type": "code",
   "execution_count": 10,
   "metadata": {},
   "outputs": [
    {
     "data": {
      "text/plain": [
       "[<matplotlib.lines.Line2D at 0x7f2cbee4caf0>]"
      ]
     },
     "execution_count": 10,
     "metadata": {},
     "output_type": "execute_result"
    },
    {
     "data": {
      "image/png": "[encoded data removed]",
      "text/plain": [
       "<Figure size 432x288 with 1 Axes>"
      ]
     },
     "metadata": {
      "needs_background": "light"
     },
     "output_type": "display_data"
    }
   ],
   "source": [
    "plt.gca().yaxis.set_major_formatter(FormatStrFormatter(\"%d s\"))\n",
    "plt.xlabel(\"Rozmiar macierzy\")\n",
    "plt.ylabel(\"Czas\")\n",
    "plt.plot(powers, times_inverse)"
   ]
  },
  {
   "cell_type": "code",
   "execution_count": 11,
   "metadata": {},
   "outputs": [
    {
     "data": {
      "text/plain": [
       "[<matplotlib.lines.Line2D at 0x7f2cbed59b50>]"
      ]
     },
     "execution_count": 11,
     "metadata": {},
     "output_type": "execute_result"
    },
    {
     "data": {
      "image/png": "[encoded data removed]",
      "text/plain": [
       "<Figure size 432x288 with 1 Axes>"
      ]
     },
     "metadata": {
      "needs_background": "light"
     },
     "output_type": "display_data"
    }
   ],
   "source": [
    "plt.xlabel(\"Rozmiar macierzy\")\n",
    "plt.ylabel(\"Ilość flopsów\")\n",
    "plt.plot(powers, flops_inverse)"
   ]
  },
  {
   "cell_type": "code",
   "execution_count": 12,
   "metadata": {},
   "outputs": [],
   "source": [
    "times_lu: List[float] = []\n",
    "flops_lu: List[int] = []\n",
    "\n",
    "for k in power_basis:\n",
    "    A = generate_matrix(2**k, 2**k)\n",
    "\n",
    "    counter = Counter()\n",
    "    start_time: float = time()\n",
    "\n",
    "    recursive_lu(A, counter)\n",
    "\n",
    "    total_time: float = time() - start_time\n",
    "\n",
    "    times_lu.append(total_time)\n",
    "    flops_lu.append(counter.operation_counter)"
   ]
  },
  {
   "cell_type": "code",
   "execution_count": 41,
   "metadata": {},
   "outputs": [
    {
     "data": {
      "text/plain": [
       "[<matplotlib.lines.Line2D at 0x7f2cbe87ba60>]"
      ]
     },
     "execution_count": 41,
     "metadata": {},
     "output_type": "execute_result"
    },
    {
     "data": {
      "image/png": "[encoded data removed]",
      "text/plain": [
       "<Figure size 432x288 with 1 Axes>"
      ]
     },
     "metadata": {
      "needs_background": "light"
     },
     "output_type": "display_data"
    }
   ],
   "source": [
    "plt.gca().yaxis.set_major_formatter(FormatStrFormatter(\"%d s\"))\n",
    "plt.xlabel(\"Rozmiar macierzy\")\n",
    "plt.ylabel(\"Czas\")\n",
    "plt.plot(powers, times_lu)"
   ]
  },
  {
   "cell_type": "code",
   "execution_count": 42,
   "metadata": {},
   "outputs": [
    {
     "data": {
      "image/png": "[encoded data removed]",
      "text/plain": [
       "<Figure size 432x288 with 1 Axes>"
      ]
     },
     "metadata": {
      "needs_background": "light"
     },
     "output_type": "display_data"
    }
   ],
   "source": [
    "plt.xlabel(\"Rozmiar macierzy\")\n",
    "plt.ylabel(\"Ilość flopsów\")\n",
    "plt.plot(powers, flops_lu)\n",
    "# plt.plot(powers, [1.76 * el ** 2.807 for el in powers])\n",
    "plt.show()"
   ]
  },
  {
   "cell_type": "code",
   "execution_count": 15,
   "metadata": {},
   "outputs": [
    {
     "name": "stderr",
     "output_type": "stream",
     "text": [
      "/tmp/ipykernel_8739/1128701643.py:11: RuntimeWarning: overflow encountered in double_scalars\n",
      "  det = functools.reduce(lambda x, y: x * y, U_diag)\n"
     ]
    }
   ],
   "source": [
    "times_determinant: List[float] = []\n",
    "flops_determinant: List[int] = []\n",
    "\n",
    "for k in power_basis:\n",
    "    A = generate_matrix(2**k, 2**k)\n",
    "\n",
    "    counter = Counter()\n",
    "    start_time: float = time()\n",
    "\n",
    "    recursive_determinant(A, counter)\n",
    "\n",
    "    total_time: float = time() - start_time\n",
    "\n",
    "    times_determinant.append(total_time)\n",
    "    flops_determinant.append(counter.operation_counter)"
   ]
  },
  {
   "cell_type": "code",
   "execution_count": 16,
   "metadata": {},
   "outputs": [
    {
     "data": {
      "text/plain": [
       "[<matplotlib.lines.Line2D at 0x7f2cbec1a790>]"
      ]
     },
     "execution_count": 16,
     "metadata": {},
     "output_type": "execute_result"
    },
    {
     "data": {
      "image/png": "[encoded data removed]",
      "text/plain": [
       "<Figure size 432x288 with 1 Axes>"
      ]
     },
     "metadata": {
      "needs_background": "light"
     },
     "output_type": "display_data"
    }
   ],
   "source": [
    "plt.gca().yaxis.set_major_formatter(FormatStrFormatter(\"%d s\"))\n",
    "plt.xlabel(\"Rozmiar macierzy\")\n",
    "plt.ylabel(\"Czas\")\n",
    "plt.plot(powers, times_determinant)"
   ]
  },
  {
   "cell_type": "code",
   "execution_count": 17,
   "metadata": {},
   "outputs": [
    {
     "data": {
      "text/plain": [
       "[<matplotlib.lines.Line2D at 0x7f2cbeb66dc0>]"
      ]
     },
     "execution_count": 17,
     "metadata": {},
     "output_type": "execute_result"
    },
    {
     "data": {
      "image/png": "[encoded data removed]",
      "text/plain": [
       "<Figure size 432x288 with 1 Axes>"
      ]
     },
     "metadata": {
      "needs_background": "light"
     },
     "output_type": "display_data"
    }
   ],
   "source": [
    "plt.xlabel(\"Rozmiar macierzy\")\n",
    "plt.ylabel(\"Ilość flopsów\")\n",
    "plt.plot(powers, flops_determinant)"
   ]
  },
  {
   "cell_type": "markdown",
   "metadata": {},
   "source": []
  },
  {
   "cell_type": "code",
   "execution_count": 18,
   "metadata": {},
   "outputs": [],
   "source": [
    "def generate_matrix(ncols: int, nrows: int):\n",
    "    return np.random.randint(low=1, high=9, size=(nrows, ncols))\n",
    "\n",
    "A = generate_matrix(5, 5)\n",
    "counter = Counter()"
   ]
  },
  {
   "cell_type": "code",
   "execution_count": 19,
   "metadata": {},
   "outputs": [],
   "source": [
    "import scipy"
   ]
  },
  {
   "cell_type": "code",
   "execution_count": 20,
   "metadata": {},
   "outputs": [
    {
     "data": {
      "text/plain": [
       "array([[1.        , 0.        , 0.        ],\n",
       "       [2.        , 1.        , 0.        ],\n",
       "       [3.        , 1.58333333, 1.        ]])"
      ]
     },
     "execution_count": 20,
     "metadata": {},
     "output_type": "execute_result"
    }
   ],
   "source": [
    "A = np.array([[1, 8, 5], [2, 4, 6], [3, 5, 7]])\n",
    "L, U = recursive_lu(A, counter)\n",
    "L"
   ]
  },
  {
   "cell_type": "code",
   "execution_count": 21,
   "metadata": {},
   "outputs": [
    {
     "data": {
      "text/plain": [
       "array([[  1.        ,   8.        ,   5.        ],\n",
       "       [  0.        , -12.        ,  -4.        ],\n",
       "       [  0.        ,   0.        ,  -1.66666667]])"
      ]
     },
     "execution_count": 21,
     "metadata": {},
     "output_type": "execute_result"
    }
   ],
   "source": [
    "U"
   ]
  },
  {
   "cell_type": "code",
   "execution_count": 22,
   "metadata": {},
   "outputs": [
    {
     "ename": "NameError",
     "evalue": "name 'true' is not defined",
     "output_type": "error",
     "traceback": [
      "\u001b[0;31m---------------------------------------------------------------------------\u001b[0m",
      "\u001b[0;31mNameError\u001b[0m                                 Traceback (most recent call last)",
      "\u001b[0;32m/tmp/ipykernel_8739/1522999427.py\u001b[0m in \u001b[0;36m<module>\u001b[0;34m\u001b[0m\n\u001b[1;32m      1\u001b[0m \u001b[0mA\u001b[0m \u001b[0;34m=\u001b[0m \u001b[0mnp\u001b[0m\u001b[0;34m.\u001b[0m\u001b[0marray\u001b[0m\u001b[0;34m(\u001b[0m\u001b[0;34m[\u001b[0m\u001b[0;34m[\u001b[0m\u001b[0;36m1\u001b[0m\u001b[0;34m,\u001b[0m \u001b[0;36m8\u001b[0m\u001b[0;34m,\u001b[0m \u001b[0;36m5\u001b[0m\u001b[0;34m]\u001b[0m\u001b[0;34m,\u001b[0m \u001b[0;34m[\u001b[0m\u001b[0;36m2\u001b[0m\u001b[0;34m,\u001b[0m \u001b[0;36m4\u001b[0m\u001b[0;34m,\u001b[0m \u001b[0;36m6\u001b[0m\u001b[0;34m]\u001b[0m\u001b[0;34m,\u001b[0m \u001b[0;34m[\u001b[0m\u001b[0;36m3\u001b[0m\u001b[0;34m,\u001b[0m \u001b[0;36m5\u001b[0m\u001b[0;34m,\u001b[0m \u001b[0;36m7\u001b[0m\u001b[0;34m]\u001b[0m\u001b[0;34m]\u001b[0m\u001b[0;34m)\u001b[0m\u001b[0;34m\u001b[0m\u001b[0;34m\u001b[0m\u001b[0m\n\u001b[0;32m----> 2\u001b[0;31m \u001b[0mA\u001b[0m \u001b[0;34m=\u001b[0m \u001b[0mscipy\u001b[0m\u001b[0;34m.\u001b[0m\u001b[0mlinalg\u001b[0m\u001b[0;34m.\u001b[0m\u001b[0mlu\u001b[0m\u001b[0;34m(\u001b[0m\u001b[0mA\u001b[0m\u001b[0;34m,\u001b[0m \u001b[0mpermute_l\u001b[0m\u001b[0;34m=\u001b[0m\u001b[0mtrue\u001b[0m\u001b[0;34m)\u001b[0m\u001b[0;34m\u001b[0m\u001b[0;34m\u001b[0m\u001b[0m\n\u001b[0m\u001b[1;32m      3\u001b[0m \u001b[0mA\u001b[0m\u001b[0;34m\u001b[0m\u001b[0;34m\u001b[0m\u001b[0m\n",
      "\u001b[0;31mNameError\u001b[0m: name 'true' is not defined"
     ]
    }
   ],
   "source": [
    "A = np.array([[1, 8, 5], [2, 4, 6], [3, 5, 7]])\n",
    "A = scipy.linalg.lu(A, permute_l=true)\n",
    "A"
   ]
  }
 ],
 "metadata": {
  "kernelspec": {
   "display_name": "Python 3.9.13 ('PSI')",
   "language": "python",
   "name": "python3"
  },
  "language_info": {
   "codemirror_mode": {
    "name": "ipython",
    "version": 3
   },
   "file_extension": ".py",
   "mimetype": "text/x-python",
   "name": "python",
   "nbconvert_exporter": "python",
   "pygments_lexer": "ipython3",
   "version": "3.9.13"
  },
  "orig_nbformat": 4,
  "vscode": {
   "interpreter": {
    "hash": "2145f33af11579e336f5bc30a7b318197c0175e9e4a72ffaa6a02aa5294ef5b7"
   }
  }
 },
 "nbformat": 4,
 "nbformat_minor": 2
}
