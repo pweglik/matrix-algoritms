{
 "cells": [
  {
   "cell_type": "markdown",
   "metadata": {},
   "source": []
  },
  {
   "attachments": {},
   "cell_type": "markdown",
   "metadata": {},
   "source": [
    "### Configuration"
   ]
  },
  {
   "cell_type": "code",
   "execution_count": 5,
   "metadata": {},
   "outputs": [],
   "source": [
    "import numpy as np\n",
    "from utils import *"
   ]
  },
  {
   "attachments": {},
   "cell_type": "markdown",
   "metadata": {},
   "source": [
    "### Minimum degree reordering "
   ]
  },
  {
   "cell_type": "code",
   "execution_count": 6,
   "metadata": {},
   "outputs": [],
   "source": [
    "def minimum_degree_transformation(input_matrix: np.ndarray) -> np.ndarray:\n",
    "    E = list(zip(*np.nonzero(input_matrix)))\n",
    "    graph = [{i} for i in range(input_matrix.shape[0])]\n",
    "    for e in E:\n",
    "        graph[e[0]].add(e[1])\n",
    "        graph[e[1]].add(e[0])\n",
    "\n",
    "    order = []\n",
    "    for _ in range(len(graph)):\n",
    "        v = -1\n",
    "        min_deg = len(input_matrix)\n",
    "\n",
    "        for j, s in enumerate(graph):\n",
    "            if len(s) != 0 and len(s) < min_deg:\n",
    "                v = j\n",
    "                min_deg = len(s)\n",
    "\n",
    "        order.append(v)\n",
    "        for s in graph:\n",
    "            if v in s:\n",
    "                s.remove(v)\n",
    "        graph[v].clear()\n",
    "\n",
    "    inverted = [None for _ in range(len(order))]\n",
    "    for i, o in enumerate(order):\n",
    "        inverted[o] = i\n",
    "\n",
    "    result = np.zeros(input_matrix.shape)\n",
    "    for coord in E:\n",
    "        result[inverted[coord[0]]][inverted[coord[1]]] = input_matrix[coord]\n",
    "\n",
    "    return result"
   ]
  },
  {
   "attachments": {},
   "cell_type": "markdown",
   "metadata": {},
   "source": [
    "### Benchmarks"
   ]
  },
  {
   "cell_type": "code",
   "execution_count": 7,
   "metadata": {},
   "outputs": [],
   "source": [
    "def compress(A, r, eps) -> TreeNode:\n",
    "    return create_tree(A, -1, A.shape[0], 0, A.shape[1], r, eps)"
   ]
  },
  {
   "cell_type": "code",
   "execution_count": 8,
   "metadata": {},
   "outputs": [
    {
     "data": {
      "image/png": "[encoded data removed]",
      "text/plain": [
       "<Figure size 504x504 with 1 Axes>"
      ]
     },
     "metadata": {
      "needs_background": "light"
     },
     "output_type": "display_data"
    }
   ],
   "source": [
    "A = generate_matrix(64, 64, 0.5)\n",
    "\n",
    "node = compress(A, 1, 0.1)\n",
    "\n",
    "draw_tree(node)"
   ]
  },
  {
   "cell_type": "code",
   "execution_count": 5,
   "metadata": {},
   "outputs": [
    {
     "data": {
      "image/png": "[encoded data removed]",
      "text/plain": [
       "<Figure size 504x504 with 1 Axes>"
      ]
     },
     "metadata": {
      "needs_background": "light"
     },
     "output_type": "display_data"
    }
   ],
   "source": [
    "B = minimum_degree_transformation(A)\n",
    "\n",
    "node2 = compress(B, 1, 0.1)\n",
    "\n",
    "draw_tree(node2)"
   ]
  },
  {
   "cell_type": "code",
   "execution_count": null,
   "metadata": {},
   "outputs": [],
   "source": []
  }
 ],
 "metadata": {
  "kernelspec": {
   "display_name": "Python 3",
   "language": "python",
   "name": "python3"
  },
  "language_info": {
   "codemirror_mode": {
    "name": "ipython",
    "version": 3
   },
   "file_extension": ".py",
   "mimetype": "text/x-python",
   "name": "python",
   "nbconvert_exporter": "python",
   "pygments_lexer": "ipython3",
   "version": "3.8.10"
  },
  "orig_nbformat": 4,
  "vscode": {
   "interpreter": {
    "hash": "31f2aee4e71d21fbe5cf8b01ff0e069b9275f58929596ceb00d14d90e3e16cd6"
   }
  }
 },
 "nbformat": 4,
 "nbformat_minor": 2
}
