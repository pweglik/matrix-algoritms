{
 "cells": [
  {
   "cell_type": "markdown",
   "metadata": {},
   "source": [
    "### Configuration"
   ]
  },
  {
   "cell_type": "code",
   "execution_count": 20,
   "metadata": {},
   "outputs": [],
   "source": [
    "import numpy as np\n",
    "import scipy.linalg as spl\n",
    "from typing import Tuple, List, Optional, Union\n",
    "import random\n",
    "\n",
    "%matplotlib inline\n",
    "import matplotlib.pyplot as plt"
   ]
  },
  {
   "cell_type": "markdown",
   "metadata": {},
   "source": [
    "### Generate Matrix"
   ]
  },
  {
   "cell_type": "code",
   "execution_count": 21,
   "metadata": {},
   "outputs": [],
   "source": [
    "\n",
    "def generate_matrix(ncols: int, nrows: int, propability=1) -> np.ndarray:\n",
    "    M = np.random.randint(1, 9, size=(nrows, ncols))\n",
    "    R = np.random.uniform(size=(nrows, ncols))\n",
    "    R = R <= propability\n",
    "    return np.where(R, M, 0)"
   ]
  },
  {
   "cell_type": "markdown",
   "metadata": {},
   "source": [
    "### Tree Classes"
   ]
  },
  {
   "cell_type": "code",
   "execution_count": 22,
   "metadata": {},
   "outputs": [],
   "source": [
    "class TreeBase():\n",
    "    def __init__(self) -> None:\n",
    "        self.size: Optional[Tuple[float, float, float, float]] = None\n",
    "        self.rank: int = 0\n",
    "\n",
    "class TreeLeaf(TreeBase):\n",
    "    def __init__(self) -> None:\n",
    "        super().__init__()\n",
    "        self.singular_values: float = 0\n",
    "        self.U: np.ndarray = None\n",
    "        self.V: np.ndarray = None\n",
    "\n",
    "\n",
    "class TreeSplit(TreeBase):\n",
    "    def __init__(self) -> None:\n",
    "        super().__init__()\n",
    "        self.left_upper: TreeNode= None\n",
    "        self.right_upper: TreeNode = None\n",
    "        self.left_lower: TreeNode = None\n",
    "        self.right_lower: TreeNode = None\n",
    "\n",
    "TreeNode = Union[TreeLeaf, TreeSplit]"
   ]
  },
  {
   "cell_type": "markdown",
   "metadata": {},
   "source": [
    "### SVD"
   ]
  },
  {
   "cell_type": "code",
   "execution_count": 23,
   "metadata": {},
   "outputs": [],
   "source": [
    "def truncatedSVD(A, r):\n",
    "    rank = min(r, A.shape[0], A.shape[1])\n",
    "    u, s, v = spl.svd(A)\n",
    "    u = u[:, 0:rank]\n",
    "    v = v[0:rank, :]\n",
    "    s = s[0:rank]\n",
    "    return u, s, v"
   ]
  },
  {
   "cell_type": "markdown",
   "metadata": {},
   "source": [
    "### Matrix Compress"
   ]
  },
  {
   "cell_type": "code",
   "execution_count": 24,
   "metadata": {},
   "outputs": [],
   "source": [
    "def consist_of_zeros(A):\n",
    "    return np.all(A==0)\n",
    "\n",
    "def compress_matrix(A: np.ndarray, first_row: int, last_row: int, first_col: int, last_col: int, r: int) -> TreeLeaf:\n",
    "    v = TreeLeaf()\n",
    "    v.size = (first_row, last_row, first_col, last_col)\n",
    "    U, D, V = truncatedSVD(A, r + 1)\n",
    "    if consist_of_zeros(A):\n",
    "        v.rank = 0\n",
    "    else:\n",
    "        v.rank = r\n",
    "        v.singular_values = D[0 : r]\n",
    "        v.U = U[:, 0 : r]\n",
    "        v.V =  V[0 : r, :]\n",
    "    return v\n",
    "\n"
   ]
  },
  {
   "cell_type": "markdown",
   "metadata": {},
   "source": [
    "### CreateTree"
   ]
  },
  {
   "cell_type": "code",
   "execution_count": 25,
   "metadata": {},
   "outputs": [],
   "source": [
    "def create_tree(A: np.ndarray, first_row: int, last_row: int, first_col: int, last_col: int, r: int, eps: float) -> TreeNode:\n",
    "    new_A = A[first_row : last_row, first_col : last_col]\n",
    "    U, D, V = truncatedSVD(new_A, r + 1)\n",
    "    if r + 1 > D.shape[0] or D[r] < eps:\n",
    "        if D.shape[0] <= 2:\n",
    "            v = compress_matrix(new_A, first_row, last_row, first_col, last_col, 1)\n",
    "        else:\n",
    "            v = compress_matrix(new_A, first_row, last_row, first_col, last_col, r)\n",
    "    else:\n",
    "        v = TreeSplit()\n",
    "        middle_row = (first_row + last_row) // 2\n",
    "        middle_col = (first_col + last_col) // 2\n",
    "        v.left_upper = create_tree(A, first_row, middle_row, first_col, middle_col, r, eps)\n",
    "        v.right_upper = create_tree(A, first_row, middle_row, middle_col, last_col, r, eps)\n",
    "        v.left_lower = create_tree(A, middle_row, last_row, first_col, middle_col, r, eps)\n",
    "        v.right_lower = create_tree(A, middle_row, last_row, middle_col, last_col, r, eps)\n",
    "    return v"
   ]
  },
  {
   "cell_type": "markdown",
   "metadata": {},
   "source": [
    "### Decompose tree to matrix"
   ]
  },
  {
   "cell_type": "code",
   "execution_count": 26,
   "metadata": {},
   "outputs": [],
   "source": [
    "def decompose_tree(root: TreeNode) -> np.ndarray:\n",
    "    if isinstance(root, TreeLeaf):\n",
    "        if root.rank == 0:\n",
    "            row_size = root.size[1] - root.size[0]\n",
    "            col_size = root.size[3] - root.size[2]\n",
    "            return np.zeros((row_size, col_size))\n",
    "        else:\n",
    "            return root.U @ (root.singular_values * np.identity(len(root.singular_values))) @ root.V\n",
    "    else:\n",
    "        M11 = decompose_tree(root.left_upper)\n",
    "        M21 = decompose_tree(root.left_lower)\n",
    "        M12 = decompose_tree(root.right_upper)\n",
    "        M22 = decompose_tree(root.right_lower)\n",
    "        return np.concatenate(\n",
    "        [np.concatenate([M11, M12], axis=1),\n",
    "         np.concatenate([M21, M22], axis=1)],\n",
    "        axis=0,)\n"
   ]
  },
  {
   "cell_type": "markdown",
   "metadata": {},
   "source": [
    "### Create matrix to display tree"
   ]
  },
  {
   "cell_type": "code",
   "execution_count": 27,
   "metadata": {},
   "outputs": [],
   "source": [
    "def tree_to_draw_matrix(root: TreeNode) -> np.ndarray:\n",
    "    if isinstance(root, TreeLeaf):\n",
    "        row_size = root.size[1] - root.size[0]\n",
    "        col_size = root.size[3] - root.size[2]\n",
    "        if root.rank == 0:\n",
    "            return np.zeros((row_size, col_size))\n",
    "        else:\n",
    "            M = np.zeros((row_size, col_size))\n",
    "            for i in range(root.rank):\n",
    "                for row in range(row_size):\n",
    "                    M[row, i] = 1 \n",
    "                for col in range(col_size):\n",
    "                    M[i, col] = 1\n",
    "            return M\n",
    "                \n",
    "    else:\n",
    "        M11 = tree_to_draw_matrix(root.left_upper)\n",
    "        M21 = tree_to_draw_matrix(root.left_lower)\n",
    "        M12 = tree_to_draw_matrix(root.right_upper)\n",
    "        M22 = tree_to_draw_matrix(root.right_lower)\n",
    "        return np.concatenate(\n",
    "        [np.concatenate([M11, M12], axis=1),\n",
    "         np.concatenate([M21, M22], axis=1)],\n",
    "        axis=0,)"
   ]
  },
  {
   "cell_type": "markdown",
   "metadata": {},
   "source": [
    "### Draw matrix"
   ]
  },
  {
   "cell_type": "code",
   "execution_count": 28,
   "metadata": {},
   "outputs": [],
   "source": [
    "def draw_tree(root: TreeNode):\n",
    "    M = tree_to_draw_matrix(root)\n",
    "    fig = plt.figure()\n",
    "    fig.set_size_inches(7, 7)\n",
    "    where_0 = np.where(M == 0)\n",
    "    where_1 = np.where(M == 1)\n",
    "    M[where_0] = 1\n",
    "    M[where_1] = 0\n",
    "    plt.imshow(M, cmap='gray')"
   ]
  },
  {
   "cell_type": "markdown",
   "metadata": {},
   "source": [
    "### Compare results to function"
   ]
  },
  {
   "cell_type": "code",
   "execution_count": 51,
   "metadata": {},
   "outputs": [],
   "source": [
    "def compare_to_function(x, y, f):\n",
    "    min_x = min(x)\n",
    "    max_x = max(x)\n",
    "    x_function = np.linspace(min_x, max_x, 100)\n",
    "    y_function = list(map(f, x_function))\n",
    "    fig = plt.figure()\n",
    "    fig.set_size_inches(7, 7)\n",
    "    plt.plot(x_function, y_function, 'r-')\n",
    "    plt.plot(x, y, 'b-')\n",
    "    plt.xlabel('Rozmiar macierzy')\n",
    "    plt.ylabel('Czas tworzenia drzewa')\n",
    "    "
   ]
  },
  {
   "cell_type": "markdown",
   "metadata": {},
   "source": [
    "### MSE"
   ]
  },
  {
   "cell_type": "code",
   "execution_count": 108,
   "metadata": {},
   "outputs": [],
   "source": [
    "def mse(A, B):\n",
    "    return np.sum(np.square(A - B))\n"
   ]
  },
  {
   "cell_type": "markdown",
   "metadata": {},
   "source": [
    "### Tests"
   ]
  },
  {
   "cell_type": "code",
   "execution_count": 136,
   "metadata": {},
   "outputs": [],
   "source": [
    "A = generate_matrix(64, 64, 0.5)\n",
    "def compress(A, r, eps) -> TreeNode:\n",
    "    return create_tree(A, 0, A.shape[0], 0, A.shape[1], r, eps)\n",
    "    \n",
    "node = compress(A, 1, 0.1)\n"
   ]
  },
  {
   "cell_type": "code",
   "execution_count": 137,
   "metadata": {},
   "outputs": [],
   "source": [
    "B = decompose_tree(node)"
   ]
  },
  {
   "cell_type": "code",
   "execution_count": 138,
   "metadata": {},
   "outputs": [
    {
     "data": {
      "text/plain": [
       "3.611257312682063e-28"
      ]
     },
     "execution_count": 138,
     "metadata": {},
     "output_type": "execute_result"
    }
   ],
   "source": [
    "mse(A, B)"
   ]
  },
  {
   "cell_type": "code",
   "execution_count": 139,
   "metadata": {},
   "outputs": [
    {
     "data": {
      "image/png": "[encoded data removed]",
      "text/plain": [
       "<Figure size 504x504 with 1 Axes>"
      ]
     },
     "metadata": {
      "needs_background": "light"
     },
     "output_type": "display_data"
    }
   ],
   "source": [
    "draw_tree(node)\n"
   ]
  },
  {
   "cell_type": "code",
   "execution_count": 81,
   "metadata": {},
   "outputs": [],
   "source": [
    "from time import time\n",
    "\n",
    "\n",
    "times: List[float] = []\n",
    "\n",
    "power_basis = list(range(2, 21))\n",
    "powers = [2**k for k in power_basis]\n",
    "\n",
    "for k in power_basis:\n",
    "\n",
    "    A = generate_matrix(128, 128, 0.5)\n",
    "    start_time: float = time()\n",
    "\n",
    "    compress(A, 1, 0.1)\n",
    "\n",
    "    times.append(time() - start_time)"
   ]
  },
  {
   "cell_type": "code",
   "execution_count": 84,
   "metadata": {},
   "outputs": [
    {
     "data": {
      "image/png": "[encoded data removed]",
      "text/plain": [
       "<Figure size 504x504 with 1 Axes>"
      ]
     },
     "metadata": {
      "needs_background": "light"
     },
     "output_type": "display_data"
    }
   ],
   "source": [
    "f = lambda x: 0.4 * 10**(-7) * x**1 + 0.7\n",
    "# f = lambda x: 0.66\n",
    "compare_to_function(powers, times, f)"
   ]
  },
  {
   "cell_type": "code",
   "execution_count": null,
   "metadata": {},
   "outputs": [],
   "source": []
  },
  {
   "cell_type": "code",
   "execution_count": null,
   "metadata": {},
   "outputs": [],
   "source": []
  }
 ],
 "metadata": {
  "kernelspec": {
   "display_name": "Python 3.9.13 ('PSI')",
   "language": "python",
   "name": "python3"
  },
  "language_info": {
   "codemirror_mode": {
    "name": "ipython",
    "version": 3
   },
   "file_extension": ".py",
   "mimetype": "text/x-python",
   "name": "python",
   "nbconvert_exporter": "python",
   "pygments_lexer": "ipython3",
   "version": "3.9.13"
  },
  "orig_nbformat": 4,
  "vscode": {
   "interpreter": {
    "hash": "2145f33af11579e336f5bc30a7b318197c0175e9e4a72ffaa6a02aa5294ef5b7"
   }
  }
 },
 "nbformat": 4,
 "nbformat_minor": 2
}
